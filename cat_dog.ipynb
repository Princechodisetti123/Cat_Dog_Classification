{
  "nbformat": 4,
  "nbformat_minor": 0,
  "metadata": {
    "colab": {
      "provenance": []
    },
    "kernelspec": {
      "name": "python3",
      "display_name": "Python 3"
    },
    "language_info": {
      "name": "python"
    }
  },
  "cells": [
    {
      "cell_type": "code",
      "execution_count": 1,
      "metadata": {
        "colab": {
          "base_uri": "https://localhost:8080/"
        },
        "id": "pPjDDpraQust",
        "outputId": "0efe10fa-602f-4e98-b2e6-9c53ad7b7914"
      },
      "outputs": [
        {
          "output_type": "execute_result",
          "data": {
            "text/plain": [
              "('cats_dogs_light.zip', <http.client.HTTPMessage at 0x7dbefe411630>)"
            ]
          },
          "metadata": {},
          "execution_count": 1
        }
      ],
      "source": [
        "import urllib.request\n",
        "\n",
        "url = \"https://zenodo.org/record/5226945/files/cats_dogs_light.zip?download=1\" # Replace with your dataset URL\n",
        "filename = \"cats_dogs_light.zip\" # Replace with your desired filename\n",
        "\n",
        "urllib.request.urlretrieve(url, filename)"
      ]
    },
    {
      "cell_type": "code",
      "source": [
        "import zipfile\n",
        "\n",
        "with zipfile.ZipFile(\"/content/cats_dogs_light.zip\", 'r') as zip_ref:\n",
        "    zip_ref.extractall()\n"
      ],
      "metadata": {
        "id": "PQPd4jPvRBje"
      },
      "execution_count": 2,
      "outputs": []
    },
    {
      "cell_type": "markdown",
      "source": [
        "this below code makes a train folder containing dogs and cats folders containg training images"
      ],
      "metadata": {
        "id": "FEcxz-PuTj5d"
      }
    },
    {
      "cell_type": "code",
      "source": [
        "import os\n",
        "import shutil\n",
        "\n",
        "# Path to the folder containing dog and cat images\n",
        "source_folder = '/content/cats_dogs_light/train'\n",
        "\n",
        "# Create a new folder for organizing images\n",
        "destination_folder = '/content/train'\n",
        "os.makedirs(destination_folder, exist_ok=True)\n",
        "\n",
        "# Create subfolders for dogs and cats\n",
        "dogs_folder = os.path.join(destination_folder, 'dogs')\n",
        "cats_folder = os.path.join(destination_folder, 'cats')\n",
        "os.makedirs(dogs_folder, exist_ok=True)\n",
        "os.makedirs(cats_folder, exist_ok=True)\n",
        "\n",
        "# Iterate through images in the source folder\n",
        "for filename in os.listdir(source_folder):\n",
        "    # Check if the file is an image\n",
        "    if filename.endswith('.jpg') or filename.endswith('.png'):\n",
        "        # Determine if it's a dog or cat image\n",
        "        if filename.startswith('dog'):\n",
        "            # Move dog image to the dogs folder\n",
        "            shutil.move(os.path.join(source_folder, filename), os.path.join(dogs_folder, filename))\n",
        "        elif filename.startswith('cat'):\n",
        "            # Move cat image to the cats folder\n",
        "            shutil.move(os.path.join(source_folder, filename), os.path.join(cats_folder, filename))\n",
        "\n",
        "print(\"Organizing images completed.\")\n"
      ],
      "metadata": {
        "colab": {
          "base_uri": "https://localhost:8080/"
        },
        "id": "fHWeHt8XSJHb",
        "outputId": "ba7c0e26-871e-49a2-8002-617fcb6c9fce"
      },
      "execution_count": 5,
      "outputs": [
        {
          "output_type": "stream",
          "name": "stdout",
          "text": [
            "Organizing images completed.\n"
          ]
        }
      ]
    },
    {
      "cell_type": "markdown",
      "source": [
        "this below code makes a test folder containing dogs and cats folders containg test images"
      ],
      "metadata": {
        "id": "-XWFXZ1KTOgH"
      }
    },
    {
      "cell_type": "code",
      "source": [
        "import os\n",
        "import shutil\n",
        "\n",
        "# Path to the folder containing dog and cat images\n",
        "source_folder = '/content/cats_dogs_light/test'\n",
        "\n",
        "# Create a new folder for organizing images\n",
        "destination_folder = '/content/test'\n",
        "os.makedirs(destination_folder, exist_ok=True)\n",
        "\n",
        "# Create subfolders for dogs and cats\n",
        "dogs_folder = os.path.join(destination_folder, 'dogs')\n",
        "cats_folder = os.path.join(destination_folder, 'cats')\n",
        "os.makedirs(dogs_folder, exist_ok=True)\n",
        "os.makedirs(cats_folder, exist_ok=True)\n",
        "\n",
        "# Iterate through images in the source folder\n",
        "for filename in os.listdir(source_folder):\n",
        "    # Check if the file is an image\n",
        "    if filename.endswith('.jpg') or filename.endswith('.png'):\n",
        "        # Determine if it's a dog or cat image\n",
        "        if filename.startswith('dog'):\n",
        "            # Move dog image to the dogs folder\n",
        "            shutil.move(os.path.join(source_folder, filename), os.path.join(dogs_folder, filename))\n",
        "        elif filename.startswith('cat'):\n",
        "            # Move cat image to the cats folder\n",
        "            shutil.move(os.path.join(source_folder, filename), os.path.join(cats_folder, filename))\n",
        "\n",
        "print(\"Organizing images completed.\")\n"
      ],
      "metadata": {
        "colab": {
          "base_uri": "https://localhost:8080/"
        },
        "id": "G5dyFADOSqze",
        "outputId": "6f3ed001-9ccb-40da-b8db-52c5ea89299b"
      },
      "execution_count": 6,
      "outputs": [
        {
          "output_type": "stream",
          "name": "stdout",
          "text": [
            "Organizing images completed.\n"
          ]
        }
      ]
    },
    {
      "cell_type": "code",
      "source": [
        "import tensorflow as tf\n",
        "from tensorflow import keras\n",
        "from tensorflow.keras import layers\n",
        "from tensorflow.keras.preprocessing.image import ImageDataGenerator\n",
        "\n",
        "# Define CNN architecture\n",
        "model = keras.Sequential([\n",
        "    layers.Conv2D(32, (3,3), activation='relu', input_shape=(150, 150, 3)),\n",
        "    layers.MaxPooling2D((2,2)),\n",
        "    layers.Conv2D(64, (3,3), activation='relu'),\n",
        "    layers.MaxPooling2D((2,2)),\n",
        "    layers.Conv2D(128, (3,3), activation='relu'),\n",
        "    layers.MaxPooling2D((2,2)),\n",
        "    layers.Conv2D(128, (3,3), activation='relu'),\n",
        "    layers.MaxPooling2D((2,2)),\n",
        "    layers.Flatten(),\n",
        "    layers.Dense(512, activation='relu'),\n",
        "    layers.Dense(1, activation='sigmoid')\n",
        "])\n",
        "\n",
        "# Compile the model\n",
        "model.compile(loss='binary_crossentropy',\n",
        "              optimizer='adam',\n",
        "              metrics=['accuracy'])\n",
        "\n",
        "# Load and preprocess the data\n",
        "train_datagen = ImageDataGenerator(rescale=1./255)\n",
        "train_generator = train_datagen.flow_from_directory(\n",
        "        '/content/train',\n",
        "        target_size=(150, 150),\n",
        "        batch_size=20,\n",
        "        class_mode='binary')\n",
        "\n",
        "validation_datagen = ImageDataGenerator(rescale=1./255)\n",
        "validation_generator = validation_datagen.flow_from_directory(\n",
        "        '/content/test',\n",
        "        target_size=(150, 150),\n",
        "        batch_size=20,\n",
        "        class_mode='binary')\n",
        "\n",
        "test_datagen = ImageDataGenerator(rescale=1./255)\n",
        "test_generator = test_datagen.flow_from_directory(\n",
        "        '/content/test',\n",
        "        target_size=(150, 150),\n",
        "        batch_size=20,\n",
        "        class_mode='binary')\n",
        "\n",
        "# Train the model\n",
        "history = model.fit(\n",
        "      train_generator,\n",
        "      steps_per_epoch=100,\n",
        "      epochs=20,\n",
        "      validation_data=validation_generator,\n",
        "      validation_steps=50)\n",
        "\n",
        "# Evaluate the model on test data\n",
        "test_loss, test_acc = model.evaluate(test_generator, steps=50)\n",
        "print('Test accuracy:', test_acc)\n"
      ],
      "metadata": {
        "colab": {
          "base_uri": "https://localhost:8080/"
        },
        "id": "12owPNarR4Zy",
        "outputId": "07c13baa-5bb4-416a-b1e9-c9e14821da8a"
      },
      "execution_count": 8,
      "outputs": [
        {
          "output_type": "stream",
          "name": "stdout",
          "text": [
            "Found 1000 images belonging to 2 classes.\n",
            "Found 400 images belonging to 2 classes.\n",
            "Found 400 images belonging to 2 classes.\n",
            "Epoch 1/20\n",
            " 50/100 [==============>...............] - ETA: 43s - loss: 0.7027 - accuracy: 0.5300"
          ]
        },
        {
          "output_type": "stream",
          "name": "stderr",
          "text": [
            "WARNING:tensorflow:Your input ran out of data; interrupting training. Make sure that your dataset or generator can generate at least `steps_per_epoch * epochs` batches (in this case, 2000 batches). You may need to use the repeat() function when building your dataset.\n",
            "WARNING:tensorflow:Your input ran out of data; interrupting training. Make sure that your dataset or generator can generate at least `steps_per_epoch * epochs` batches (in this case, 50 batches). You may need to use the repeat() function when building your dataset.\n"
          ]
        },
        {
          "output_type": "stream",
          "name": "stdout",
          "text": [
            "100/100 [==============================] - 51s 490ms/step - loss: 0.7027 - accuracy: 0.5300 - val_loss: 0.6931 - val_accuracy: 0.5000\n",
            "20/50 [===========>..................] - ETA: 8s - loss: 0.6931 - accuracy: 0.5000"
          ]
        },
        {
          "output_type": "stream",
          "name": "stderr",
          "text": [
            "WARNING:tensorflow:Your input ran out of data; interrupting training. Make sure that your dataset or generator can generate at least `steps_per_epoch * epochs` batches (in this case, 50 batches). You may need to use the repeat() function when building your dataset.\n"
          ]
        },
        {
          "output_type": "stream",
          "name": "stdout",
          "text": [
            "\b\b\b\b\b\b\b\b\b\b\b\b\b\b\b\b\b\b\b\b\b\b\b\b\b\b\b\b\b\b\b\b\b\b\b\b\b\b\b\b\b\b\b\b\b\b\b\b\b\b\b\b\b\b\b\b\b\b\b\b\b\b\b\b\b\b\b\b\b\b\b\b\b\b\b\b\b\b\b\b\b\b\r50/50 [==============================] - 6s 109ms/step - loss: 0.6931 - accuracy: 0.5000\n",
            "Test accuracy: 0.5\n"
          ]
        }
      ]
    },
    {
      "cell_type": "code",
      "source": [
        "import numpy as np\n",
        "from tensorflow.keras.preprocessing import image\n",
        "\n",
        "def predict_image(classifier, img_path):\n",
        "    img = image.load_img(img_path, target_size=(150, 150))\n",
        "    img_array = image.img_to_array(img)\n",
        "    img_array = np.expand_dims(img_array, axis=0)\n",
        "    img_array /= 255.\n",
        "    prediction = classifier.predict(img_array)\n",
        "    return \"dog\" if prediction[0][0] < 0.5 else \"cat\""
      ],
      "metadata": {
        "id": "n1_1C0qoTc_a"
      },
      "execution_count": 9,
      "outputs": []
    },
    {
      "cell_type": "code",
      "source": [
        "predict_image(model,\"/content/test/cats/cat.9975.jpg\")"
      ],
      "metadata": {
        "colab": {
          "base_uri": "https://localhost:8080/",
          "height": 53
        },
        "id": "RXJgd6LxVks3",
        "outputId": "a53e9220-8b5a-4045-ec01-6be4980ed546"
      },
      "execution_count": 12,
      "outputs": [
        {
          "output_type": "stream",
          "name": "stdout",
          "text": [
            "1/1 [==============================] - 0s 31ms/step\n"
          ]
        },
        {
          "output_type": "execute_result",
          "data": {
            "text/plain": [
              "'cat'"
            ],
            "application/vnd.google.colaboratory.intrinsic+json": {
              "type": "string"
            }
          },
          "metadata": {},
          "execution_count": 12
        }
      ]
    },
    {
      "cell_type": "code",
      "source": [
        "predict_image(model,\"/content/test/dogs/dog.9784.jpg\")"
      ],
      "metadata": {
        "colab": {
          "base_uri": "https://localhost:8080/",
          "height": 53
        },
        "id": "N5E5JD6OVv--",
        "outputId": "270b78db-378d-4591-8161-c765341392a1"
      },
      "execution_count": 13,
      "outputs": [
        {
          "output_type": "stream",
          "name": "stdout",
          "text": [
            "1/1 [==============================] - 0s 60ms/step\n"
          ]
        },
        {
          "output_type": "execute_result",
          "data": {
            "text/plain": [
              "'cat'"
            ],
            "application/vnd.google.colaboratory.intrinsic+json": {
              "type": "string"
            }
          },
          "metadata": {},
          "execution_count": 13
        }
      ]
    },
    {
      "cell_type": "code",
      "source": [],
      "metadata": {
        "id": "ojuh_V8cWEWv"
      },
      "execution_count": null,
      "outputs": []
    }
  ]
}